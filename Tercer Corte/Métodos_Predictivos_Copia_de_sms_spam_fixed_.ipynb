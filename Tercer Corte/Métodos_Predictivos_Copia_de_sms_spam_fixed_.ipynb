{
  "cells": [
    {
      "cell_type": "markdown",
      "id": "065dc667",
      "metadata": {
        "id": "065dc667"
      },
      "source": [
        "# SMS Spam Classification – Notebook corregido\n",
        "Este cuaderno soluciona los errores de forma y vacíos que provocaban fallos en el entrenamiento."
      ]
    },
    {
      "cell_type": "markdown",
      "id": "efb9c929",
      "metadata": {
        "id": "efb9c929"
      },
      "source": [
        "## 0. Descarga y limpieza del dataset"
      ]
    },
    {
      "cell_type": "code",
      "execution_count": 1,
      "id": "895e322f",
      "metadata": {
        "colab": {
          "base_uri": "https://localhost:8080/",
          "height": 504
        },
        "id": "895e322f",
        "outputId": "c4caed85-866e-41ba-eb06-e3a7a6f27511"
      },
      "outputs": [
        {
          "output_type": "stream",
          "name": "stdout",
          "text": [
            "--2025-05-28 18:38:32--  https://github.com/javierherrera1996/lecture_analytics/raw/refs/heads/main/datasets/exploracion_datos/Gender_bias_spanish.csv\n",
            "Resolving github.com (github.com)... 140.82.114.4\n",
            "Connecting to github.com (github.com)|140.82.114.4|:443... connected.\n",
            "HTTP request sent, awaiting response... 302 Found\n",
            "Location: https://raw.githubusercontent.com/javierherrera1996/lecture_analytics/refs/heads/main/datasets/exploracion_datos/Gender_bias_spanish.csv [following]\n",
            "--2025-05-28 18:38:32--  https://raw.githubusercontent.com/javierherrera1996/lecture_analytics/refs/heads/main/datasets/exploracion_datos/Gender_bias_spanish.csv\n",
            "Resolving raw.githubusercontent.com (raw.githubusercontent.com)... 185.199.108.133, 185.199.109.133, 185.199.110.133, ...\n",
            "Connecting to raw.githubusercontent.com (raw.githubusercontent.com)|185.199.108.133|:443... connected.\n",
            "HTTP request sent, awaiting response... 200 OK\n",
            "Length: 205292 (200K) [text/plain]\n",
            "Saving to: ‘Gender_bias_spanish.csv’\n",
            "\n",
            "Gender_bias_spanish 100%[===================>] 200.48K  --.-KB/s    in 0.03s   \n",
            "\n",
            "2025-05-28 18:38:32 (5.91 MB/s) - ‘Gender_bias_spanish.csv’ saved [205292/205292]\n",
            "\n"
          ]
        },
        {
          "output_type": "execute_result",
          "data": {
            "text/plain": [
              "                                            Contents       Label\n",
              "0  @chumeltorres ya cabrón! sin tí se reciben las...      biased\n",
              "1  ¿alguien es tan amable de ir a hacerme la comp...  non-biased\n",
              "2  @jenniferduquee hahaha, si está rico, nadamas ...  non-biased\n",
              "3  @evagelcot donde lo ves!!? es mi programa favo...  non-biased\n",
              "4  como siempre mi tortilla triunfa mas que otros...  non-biased"
            ],
            "text/html": [
              "\n",
              "  <div id=\"df-b30a51a7-333e-4079-bbe3-b37f2658f691\" class=\"colab-df-container\">\n",
              "    <div>\n",
              "<style scoped>\n",
              "    .dataframe tbody tr th:only-of-type {\n",
              "        vertical-align: middle;\n",
              "    }\n",
              "\n",
              "    .dataframe tbody tr th {\n",
              "        vertical-align: top;\n",
              "    }\n",
              "\n",
              "    .dataframe thead th {\n",
              "        text-align: right;\n",
              "    }\n",
              "</style>\n",
              "<table border=\"1\" class=\"dataframe\">\n",
              "  <thead>\n",
              "    <tr style=\"text-align: right;\">\n",
              "      <th></th>\n",
              "      <th>Contents</th>\n",
              "      <th>Label</th>\n",
              "    </tr>\n",
              "  </thead>\n",
              "  <tbody>\n",
              "    <tr>\n",
              "      <th>0</th>\n",
              "      <td>@chumeltorres ya cabrón! sin tí se reciben las...</td>\n",
              "      <td>biased</td>\n",
              "    </tr>\n",
              "    <tr>\n",
              "      <th>1</th>\n",
              "      <td>¿alguien es tan amable de ir a hacerme la comp...</td>\n",
              "      <td>non-biased</td>\n",
              "    </tr>\n",
              "    <tr>\n",
              "      <th>2</th>\n",
              "      <td>@jenniferduquee hahaha, si está rico, nadamas ...</td>\n",
              "      <td>non-biased</td>\n",
              "    </tr>\n",
              "    <tr>\n",
              "      <th>3</th>\n",
              "      <td>@evagelcot donde lo ves!!? es mi programa favo...</td>\n",
              "      <td>non-biased</td>\n",
              "    </tr>\n",
              "    <tr>\n",
              "      <th>4</th>\n",
              "      <td>como siempre mi tortilla triunfa mas que otros...</td>\n",
              "      <td>non-biased</td>\n",
              "    </tr>\n",
              "  </tbody>\n",
              "</table>\n",
              "</div>\n",
              "    <div class=\"colab-df-buttons\">\n",
              "\n",
              "  <div class=\"colab-df-container\">\n",
              "    <button class=\"colab-df-convert\" onclick=\"convertToInteractive('df-b30a51a7-333e-4079-bbe3-b37f2658f691')\"\n",
              "            title=\"Convert this dataframe to an interactive table.\"\n",
              "            style=\"display:none;\">\n",
              "\n",
              "  <svg xmlns=\"http://www.w3.org/2000/svg\" height=\"24px\" viewBox=\"0 -960 960 960\">\n",
              "    <path d=\"M120-120v-720h720v720H120Zm60-500h600v-160H180v160Zm220 220h160v-160H400v160Zm0 220h160v-160H400v160ZM180-400h160v-160H180v160Zm440 0h160v-160H620v160ZM180-180h160v-160H180v160Zm440 0h160v-160H620v160Z\"/>\n",
              "  </svg>\n",
              "    </button>\n",
              "\n",
              "  <style>\n",
              "    .colab-df-container {\n",
              "      display:flex;\n",
              "      gap: 12px;\n",
              "    }\n",
              "\n",
              "    .colab-df-convert {\n",
              "      background-color: #E8F0FE;\n",
              "      border: none;\n",
              "      border-radius: 50%;\n",
              "      cursor: pointer;\n",
              "      display: none;\n",
              "      fill: #1967D2;\n",
              "      height: 32px;\n",
              "      padding: 0 0 0 0;\n",
              "      width: 32px;\n",
              "    }\n",
              "\n",
              "    .colab-df-convert:hover {\n",
              "      background-color: #E2EBFA;\n",
              "      box-shadow: 0px 1px 2px rgba(60, 64, 67, 0.3), 0px 1px 3px 1px rgba(60, 64, 67, 0.15);\n",
              "      fill: #174EA6;\n",
              "    }\n",
              "\n",
              "    .colab-df-buttons div {\n",
              "      margin-bottom: 4px;\n",
              "    }\n",
              "\n",
              "    [theme=dark] .colab-df-convert {\n",
              "      background-color: #3B4455;\n",
              "      fill: #D2E3FC;\n",
              "    }\n",
              "\n",
              "    [theme=dark] .colab-df-convert:hover {\n",
              "      background-color: #434B5C;\n",
              "      box-shadow: 0px 1px 3px 1px rgba(0, 0, 0, 0.15);\n",
              "      filter: drop-shadow(0px 1px 2px rgba(0, 0, 0, 0.3));\n",
              "      fill: #FFFFFF;\n",
              "    }\n",
              "  </style>\n",
              "\n",
              "    <script>\n",
              "      const buttonEl =\n",
              "        document.querySelector('#df-b30a51a7-333e-4079-bbe3-b37f2658f691 button.colab-df-convert');\n",
              "      buttonEl.style.display =\n",
              "        google.colab.kernel.accessAllowed ? 'block' : 'none';\n",
              "\n",
              "      async function convertToInteractive(key) {\n",
              "        const element = document.querySelector('#df-b30a51a7-333e-4079-bbe3-b37f2658f691');\n",
              "        const dataTable =\n",
              "          await google.colab.kernel.invokeFunction('convertToInteractive',\n",
              "                                                    [key], {});\n",
              "        if (!dataTable) return;\n",
              "\n",
              "        const docLinkHtml = 'Like what you see? Visit the ' +\n",
              "          '<a target=\"_blank\" href=https://colab.research.google.com/notebooks/data_table.ipynb>data table notebook</a>'\n",
              "          + ' to learn more about interactive tables.';\n",
              "        element.innerHTML = '';\n",
              "        dataTable['output_type'] = 'display_data';\n",
              "        await google.colab.output.renderOutput(dataTable, element);\n",
              "        const docLink = document.createElement('div');\n",
              "        docLink.innerHTML = docLinkHtml;\n",
              "        element.appendChild(docLink);\n",
              "      }\n",
              "    </script>\n",
              "  </div>\n",
              "\n",
              "\n",
              "    <div id=\"df-25c48486-13f4-4745-af99-e4302c6655b2\">\n",
              "      <button class=\"colab-df-quickchart\" onclick=\"quickchart('df-25c48486-13f4-4745-af99-e4302c6655b2')\"\n",
              "                title=\"Suggest charts\"\n",
              "                style=\"display:none;\">\n",
              "\n",
              "<svg xmlns=\"http://www.w3.org/2000/svg\" height=\"24px\"viewBox=\"0 0 24 24\"\n",
              "     width=\"24px\">\n",
              "    <g>\n",
              "        <path d=\"M19 3H5c-1.1 0-2 .9-2 2v14c0 1.1.9 2 2 2h14c1.1 0 2-.9 2-2V5c0-1.1-.9-2-2-2zM9 17H7v-7h2v7zm4 0h-2V7h2v10zm4 0h-2v-4h2v4z\"/>\n",
              "    </g>\n",
              "</svg>\n",
              "      </button>\n",
              "\n",
              "<style>\n",
              "  .colab-df-quickchart {\n",
              "      --bg-color: #E8F0FE;\n",
              "      --fill-color: #1967D2;\n",
              "      --hover-bg-color: #E2EBFA;\n",
              "      --hover-fill-color: #174EA6;\n",
              "      --disabled-fill-color: #AAA;\n",
              "      --disabled-bg-color: #DDD;\n",
              "  }\n",
              "\n",
              "  [theme=dark] .colab-df-quickchart {\n",
              "      --bg-color: #3B4455;\n",
              "      --fill-color: #D2E3FC;\n",
              "      --hover-bg-color: #434B5C;\n",
              "      --hover-fill-color: #FFFFFF;\n",
              "      --disabled-bg-color: #3B4455;\n",
              "      --disabled-fill-color: #666;\n",
              "  }\n",
              "\n",
              "  .colab-df-quickchart {\n",
              "    background-color: var(--bg-color);\n",
              "    border: none;\n",
              "    border-radius: 50%;\n",
              "    cursor: pointer;\n",
              "    display: none;\n",
              "    fill: var(--fill-color);\n",
              "    height: 32px;\n",
              "    padding: 0;\n",
              "    width: 32px;\n",
              "  }\n",
              "\n",
              "  .colab-df-quickchart:hover {\n",
              "    background-color: var(--hover-bg-color);\n",
              "    box-shadow: 0 1px 2px rgba(60, 64, 67, 0.3), 0 1px 3px 1px rgba(60, 64, 67, 0.15);\n",
              "    fill: var(--button-hover-fill-color);\n",
              "  }\n",
              "\n",
              "  .colab-df-quickchart-complete:disabled,\n",
              "  .colab-df-quickchart-complete:disabled:hover {\n",
              "    background-color: var(--disabled-bg-color);\n",
              "    fill: var(--disabled-fill-color);\n",
              "    box-shadow: none;\n",
              "  }\n",
              "\n",
              "  .colab-df-spinner {\n",
              "    border: 2px solid var(--fill-color);\n",
              "    border-color: transparent;\n",
              "    border-bottom-color: var(--fill-color);\n",
              "    animation:\n",
              "      spin 1s steps(1) infinite;\n",
              "  }\n",
              "\n",
              "  @keyframes spin {\n",
              "    0% {\n",
              "      border-color: transparent;\n",
              "      border-bottom-color: var(--fill-color);\n",
              "      border-left-color: var(--fill-color);\n",
              "    }\n",
              "    20% {\n",
              "      border-color: transparent;\n",
              "      border-left-color: var(--fill-color);\n",
              "      border-top-color: var(--fill-color);\n",
              "    }\n",
              "    30% {\n",
              "      border-color: transparent;\n",
              "      border-left-color: var(--fill-color);\n",
              "      border-top-color: var(--fill-color);\n",
              "      border-right-color: var(--fill-color);\n",
              "    }\n",
              "    40% {\n",
              "      border-color: transparent;\n",
              "      border-right-color: var(--fill-color);\n",
              "      border-top-color: var(--fill-color);\n",
              "    }\n",
              "    60% {\n",
              "      border-color: transparent;\n",
              "      border-right-color: var(--fill-color);\n",
              "    }\n",
              "    80% {\n",
              "      border-color: transparent;\n",
              "      border-right-color: var(--fill-color);\n",
              "      border-bottom-color: var(--fill-color);\n",
              "    }\n",
              "    90% {\n",
              "      border-color: transparent;\n",
              "      border-bottom-color: var(--fill-color);\n",
              "    }\n",
              "  }\n",
              "</style>\n",
              "\n",
              "      <script>\n",
              "        async function quickchart(key) {\n",
              "          const quickchartButtonEl =\n",
              "            document.querySelector('#' + key + ' button');\n",
              "          quickchartButtonEl.disabled = true;  // To prevent multiple clicks.\n",
              "          quickchartButtonEl.classList.add('colab-df-spinner');\n",
              "          try {\n",
              "            const charts = await google.colab.kernel.invokeFunction(\n",
              "                'suggestCharts', [key], {});\n",
              "          } catch (error) {\n",
              "            console.error('Error during call to suggestCharts:', error);\n",
              "          }\n",
              "          quickchartButtonEl.classList.remove('colab-df-spinner');\n",
              "          quickchartButtonEl.classList.add('colab-df-quickchart-complete');\n",
              "        }\n",
              "        (() => {\n",
              "          let quickchartButtonEl =\n",
              "            document.querySelector('#df-25c48486-13f4-4745-af99-e4302c6655b2 button');\n",
              "          quickchartButtonEl.style.display =\n",
              "            google.colab.kernel.accessAllowed ? 'block' : 'none';\n",
              "        })();\n",
              "      </script>\n",
              "    </div>\n",
              "\n",
              "    </div>\n",
              "  </div>\n"
            ],
            "application/vnd.google.colaboratory.intrinsic+json": {
              "type": "dataframe",
              "variable_name": "df",
              "summary": "{\n  \"name\": \"df\",\n  \"rows\": 1914,\n  \"fields\": [\n    {\n      \"column\": \"Contents\",\n      \"properties\": {\n        \"dtype\": \"string\",\n        \"num_unique_values\": 1914,\n        \"samples\": [\n          \"@drlejtik @tauroagencia @laplazamexico jaja insisto se pondra buenisimo\",\n          \"@najeraa13 creo que soy la \\u00fanica que pringa trabajando todo el verano y todo septiembre \",\n          \"@sr_merlusa @mariiiiaperez @abrilnapilotti como se nota merlu que hace tiemp oque no te junta conmigoooooooo \"\n        ],\n        \"semantic_type\": \"\",\n        \"description\": \"\"\n      }\n    },\n    {\n      \"column\": \"Label\",\n      \"properties\": {\n        \"dtype\": \"category\",\n        \"num_unique_values\": 2,\n        \"samples\": [\n          \"non-biased\",\n          \"biased\"\n        ],\n        \"semantic_type\": \"\",\n        \"description\": \"\"\n      }\n    }\n  ]\n}"
            }
          },
          "metadata": {},
          "execution_count": 1
        }
      ],
      "source": [
        "import pandas as pd, numpy as np, tensorflow as tf\n",
        "import matplotlib.pyplot as plt, seaborn as sns\n",
        "from sklearn.model_selection import train_test_split\n",
        "from sklearn.metrics import classification_report, confusion_matrix, roc_curve, auc\n",
        "\n",
        "!wget https://github.com/javierherrera1996/lecture_analytics/raw/refs/heads/main/datasets/exploracion_datos/Gender_bias_spanish.csv\n",
        "\n",
        "# Cargar CSV con codificación correcta y quedarnos con columnas relevantes\n",
        "df = pd.read_csv('Gender_bias_spanish.csv', encoding='utf-8')\n",
        "# Select the 'text' and 'label' columns\n",
        "df = df[['Contents', 'Label']]\n",
        "# Remove rows where the 'text' column is empty or null\n",
        "df.dropna(subset=['Contents'], inplace=True)\n",
        "df = df[df['Contents'].str.strip() != '']\n",
        "\n",
        "# Display the first few rows to confirm\n",
        "df.head()"
      ]
    },
    {
      "cell_type": "markdown",
      "id": "8feed2ea",
      "metadata": {
        "id": "8feed2ea"
      },
      "source": [
        "## 1. Configuración y seed"
      ]
    },
    {
      "cell_type": "code",
      "execution_count": 2,
      "id": "63de9b29",
      "metadata": {
        "id": "63de9b29"
      },
      "outputs": [],
      "source": [
        "AUTOTUNE = tf.data.AUTOTUNE\n",
        "np.random.seed(42)\n",
        "tf.random.set_seed(42)\n"
      ]
    },
    {
      "cell_type": "markdown",
      "id": "a39ae649",
      "metadata": {
        "id": "a39ae649"
      },
      "source": [
        "## 2. División Train/Test"
      ]
    },
    {
      "cell_type": "code",
      "execution_count": 3,
      "id": "be9f81fa",
      "metadata": {
        "colab": {
          "base_uri": "https://localhost:8080/"
        },
        "id": "be9f81fa",
        "outputId": "16fa723b-6976-4322-be92-421040119af3"
      },
      "outputs": [
        {
          "output_type": "stream",
          "name": "stdout",
          "text": [
            "1531 train | 383 test\n"
          ]
        }
      ],
      "source": [
        "y = df['Label'].map({'biased':0,'non-biased':1})\n",
        "X_train, X_test, y_train, y_test = train_test_split(\n",
        "    df['Contents'], y, test_size=0.2, stratify=y, random_state=42)\n",
        "\n",
        "print(len(X_train),\"train |\", len(X_test),\"test\")"
      ]
    },
    {
      "cell_type": "markdown",
      "id": "37a87e6c",
      "metadata": {
        "id": "37a87e6c"
      },
      "source": [
        "## 3. Vectorización de texto con manejo seguro de dimensiones"
      ]
    },
    {
      "cell_type": "code",
      "execution_count": 4,
      "id": "5ccbba46",
      "metadata": {
        "id": "5ccbba46"
      },
      "outputs": [],
      "source": [
        "MAX_TOKENS, MAX_LEN = 10000, 100\n",
        "vectorizer = tf.keras.layers.TextVectorization(\n",
        "    max_tokens=MAX_TOKENS,\n",
        "    output_sequence_length=MAX_LEN,\n",
        "    standardize=\"lower_and_strip_punctuation\")\n",
        "vectorizer.adapt(X_train.values)\n",
        "\n",
        "def to_tensor(txt, label):\n",
        "    txt = tf.expand_dims(txt, -1)          # (1,)\n",
        "    seq = tf.squeeze(vectorizer(txt), axis=0) # (MAX_LEN,)\n",
        "    return seq, label\n",
        "\n",
        "batch = 32\n",
        "train_ds = (tf.data.Dataset.from_tensor_slices((X_train.values, y_train.values))\n",
        "            .shuffle(10000)\n",
        "            .map(to_tensor, num_parallel_calls=AUTOTUNE)\n",
        "            .batch(batch)\n",
        "            .prefetch(AUTOTUNE))\n",
        "test_ds  = (tf.data.Dataset.from_tensor_slices((X_test.values, y_test.values))\n",
        "            .map(to_tensor, num_parallel_calls=AUTOTUNE)\n",
        "            .batch(batch)\n",
        "            .prefetch(AUTOTUNE))\n"
      ]
    },
    {
      "cell_type": "markdown",
      "id": "c8dff3b6",
      "metadata": {
        "id": "c8dff3b6"
      },
      "source": [
        "## 4. Definición y entrenamiento del modelo"
      ]
    },
    {
      "cell_type": "code",
      "execution_count": 5,
      "id": "4cba53f3",
      "metadata": {
        "colab": {
          "base_uri": "https://localhost:8080/"
        },
        "id": "4cba53f3",
        "outputId": "0a0d2d5a-c15d-40f7-8eae-ddad31d125a9"
      },
      "outputs": [
        {
          "output_type": "stream",
          "name": "stdout",
          "text": [
            "Epoch 1/5\n"
          ]
        },
        {
          "output_type": "stream",
          "name": "stderr",
          "text": [
            "/usr/local/lib/python3.11/dist-packages/keras/src/layers/core/embedding.py:90: UserWarning: Argument `input_length` is deprecated. Just remove it.\n",
            "  warnings.warn(\n"
          ]
        },
        {
          "output_type": "stream",
          "name": "stdout",
          "text": [
            "\u001b[1m48/48\u001b[0m \u001b[32m━━━━━━━━━━━━━━━━━━━━\u001b[0m\u001b[37m\u001b[0m \u001b[1m3s\u001b[0m 15ms/step - accuracy: 0.7670 - loss: 0.5820 - val_accuracy: 0.8329 - val_loss: 0.4546\n",
            "Epoch 2/5\n",
            "\u001b[1m48/48\u001b[0m \u001b[32m━━━━━━━━━━━━━━━━━━━━\u001b[0m\u001b[37m\u001b[0m \u001b[1m0s\u001b[0m 9ms/step - accuracy: 0.8380 - loss: 0.4555 - val_accuracy: 0.8329 - val_loss: 0.4537\n",
            "Epoch 3/5\n",
            "\u001b[1m48/48\u001b[0m \u001b[32m━━━━━━━━━━━━━━━━━━━━\u001b[0m\u001b[37m\u001b[0m \u001b[1m0s\u001b[0m 10ms/step - accuracy: 0.8353 - loss: 0.4635 - val_accuracy: 0.8329 - val_loss: 0.4533\n",
            "Epoch 4/5\n",
            "\u001b[1m48/48\u001b[0m \u001b[32m━━━━━━━━━━━━━━━━━━━━\u001b[0m\u001b[37m\u001b[0m \u001b[1m1s\u001b[0m 9ms/step - accuracy: 0.8267 - loss: 0.4704 - val_accuracy: 0.8329 - val_loss: 0.4531\n",
            "Epoch 5/5\n",
            "\u001b[1m48/48\u001b[0m \u001b[32m━━━━━━━━━━━━━━━━━━━━\u001b[0m\u001b[37m\u001b[0m \u001b[1m0s\u001b[0m 9ms/step - accuracy: 0.8394 - loss: 0.4562 - val_accuracy: 0.8329 - val_loss: 0.4536\n"
          ]
        }
      ],
      "source": [
        "EMBED_DIM = 16\n",
        "model = tf.keras.Sequential([\n",
        "    tf.keras.layers.Embedding(MAX_TOKENS, EMBED_DIM, input_length=MAX_LEN),\n",
        "    tf.keras.layers.GlobalAveragePooling1D(),\n",
        "    tf.keras.layers.Dropout(0.5),\n",
        "    tf.keras.layers.Dense(16, activation='relu'),\n",
        "    tf.keras.layers.Dense(1, activation='sigmoid')\n",
        "])\n",
        "\n",
        "model.compile(optimizer='adam', loss='binary_crossentropy', metrics=['accuracy'])\n",
        "\n",
        "history = model.fit(train_ds, validation_data=test_ds, epochs=5)\n"
      ]
    },
    {
      "cell_type": "markdown",
      "id": "b1f400b9",
      "metadata": {
        "id": "b1f400b9"
      },
      "source": [
        "## 5. Curva de aprendizaje"
      ]
    },
    {
      "cell_type": "code",
      "execution_count": 6,
      "id": "a8f28d22",
      "metadata": {
        "colab": {
          "base_uri": "https://localhost:8080/",
          "height": 451
        },
        "id": "a8f28d22",
        "outputId": "5f428ec5-f7b8-4e8b-a6d6-3f6c1f3a669b"
      },
      "outputs": [
        {
          "output_type": "display_data",
          "data": {
            "text/plain": [
              "<Figure size 640x480 with 1 Axes>"
            ],
            "image/png": "[encoded data removed]"
          },
          "metadata": {}
        }
      ],
      "source": [
        "plt.plot(history.history['accuracy'], label='train')\n",
        "plt.plot(history.history['val_accuracy'], label='val')\n",
        "plt.legend(); plt.xlabel('Época'); plt.ylabel('Precisión'); plt.show()"
      ]
    },
    {
      "cell_type": "markdown",
      "id": "cd877bd4",
      "metadata": {
        "id": "cd877bd4"
      },
      "source": [
        "## 6. Evaluación"
      ]
    },
    {
      "cell_type": "code",
      "execution_count": 7,
      "id": "81a693b2",
      "metadata": {
        "colab": {
          "base_uri": "https://localhost:8080/",
          "height": 764
        },
        "id": "81a693b2",
        "outputId": "b6cbf0b4-35b7-4eea-baf2-0234dc11e050"
      },
      "outputs": [
        {
          "output_type": "stream",
          "name": "stdout",
          "text": [
            "\u001b[1m12/12\u001b[0m \u001b[32m━━━━━━━━━━━━━━━━━━━━\u001b[0m\u001b[37m\u001b[0m \u001b[1m0s\u001b[0m 9ms/step\n",
            "              precision    recall  f1-score   support\n",
            "\n",
            "      biased       0.00      0.00      0.00        64\n",
            "  non-biased       0.83      1.00      0.91       319\n",
            "\n",
            "    accuracy                           0.83       383\n",
            "   macro avg       0.42      0.50      0.45       383\n",
            "weighted avg       0.69      0.83      0.76       383\n",
            "\n"
          ]
        },
        {
          "output_type": "stream",
          "name": "stderr",
          "text": [
            "/usr/local/lib/python3.11/dist-packages/sklearn/metrics/_classification.py:1565: UndefinedMetricWarning: Precision is ill-defined and being set to 0.0 in labels with no predicted samples. Use `zero_division` parameter to control this behavior.\n",
            "  _warn_prf(average, modifier, f\"{metric.capitalize()} is\", len(result))\n",
            "/usr/local/lib/python3.11/dist-packages/sklearn/metrics/_classification.py:1565: UndefinedMetricWarning: Precision is ill-defined and being set to 0.0 in labels with no predicted samples. Use `zero_division` parameter to control this behavior.\n",
            "  _warn_prf(average, modifier, f\"{metric.capitalize()} is\", len(result))\n",
            "/usr/local/lib/python3.11/dist-packages/sklearn/metrics/_classification.py:1565: UndefinedMetricWarning: Precision is ill-defined and being set to 0.0 in labels with no predicted samples. Use `zero_division` parameter to control this behavior.\n",
            "  _warn_prf(average, modifier, f\"{metric.capitalize()} is\", len(result))\n"
          ]
        },
        {
          "output_type": "display_data",
          "data": {
            "text/plain": [
              "<Figure size 640x480 with 2 Axes>"
            ],
            "image/png": "[encoded data removed]"
          },
          "metadata": {}
        },
        {
          "output_type": "stream",
          "name": "stdout",
          "text": [
            "AUC: 0.477762539184953\n"
          ]
        }
      ],
      "source": [
        "y_prob = model.predict(test_ds).ravel()\n",
        "y_pred = (y_prob > 0.4).astype(int)\n",
        "y_true = y_test.values\n",
        "\n",
        "print(classification_report(y_true, y_pred, target_names=['biased','non-biased']))\n",
        "cm = confusion_matrix(y_true, y_pred)\n",
        "sns.heatmap(cm, annot=True, fmt='d', cmap='PuRd',\n",
        "            xticklabels=['biased','non-biased'], yticklabels=['biased','non-biased'])\n",
        "plt.xlabel('Predicho'); plt.ylabel('Real'); plt.show()\n",
        "\n",
        "fpr,tpr,_ = roc_curve(y_true, y_prob)\n",
        "print(\"AUC:\", auc(fpr,tpr))"
      ]
    },
    {
      "cell_type": "markdown",
      "id": "57df6388",
      "metadata": {
        "id": "57df6388"
      },
      "source": [
        "## 7. Próximos pasos\n",
        "- Aumentar `epochs` si no hay sobreajuste.\n",
        "\n",
        "**Respuesta:** No hay sobreajuste, el modelo está aprendiendo de forma equilibrada: la precisión en entrenamiento y validación son muy similares y estables.\n",
        "- Probar `class_weight={0:1,1:2}` en `model.fit`.\n",
        "- Cambiar la arquitectura a `Bidirectional(LSTM(32))` para capturar contexto.\n",
        "- Usar embeddings preentrenados (GloVe) para menos datos."
      ]
    },
    {
      "source": [
        "history = model.fit(train_ds, validation_data=test_ds, epochs=10, class_weight={0:1, 1:2})"
      ],
      "cell_type": "code",
      "metadata": {
        "colab": {
          "base_uri": "https://localhost:8080/"
        },
        "id": "SVL64bwSOni_",
        "outputId": "efe4b8a3-4f92-418c-c993-e9d8a474bfdf"
      },
      "id": "SVL64bwSOni_",
      "execution_count": 21,
      "outputs": [
        {
          "output_type": "stream",
          "name": "stdout",
          "text": [
            "Epoch 1/10\n",
            "\u001b[1m48/48\u001b[0m \u001b[32m━━━━━━━━━━━━━━━━━━━━\u001b[0m\u001b[37m\u001b[0m \u001b[1m1s\u001b[0m 12ms/step - accuracy: 0.8322 - loss: 0.5736 - val_accuracy: 0.8329 - val_loss: 0.4750\n",
            "Epoch 2/10\n",
            "\u001b[1m48/48\u001b[0m \u001b[32m━━━━━━━━━━━━━━━━━━━━\u001b[0m\u001b[37m\u001b[0m \u001b[1m1s\u001b[0m 11ms/step - accuracy: 0.8338 - loss: 0.5739 - val_accuracy: 0.8329 - val_loss: 0.4725\n",
            "Epoch 3/10\n",
            "\u001b[1m48/48\u001b[0m \u001b[32m━━━━━━━━━━━━━━━━━━━━\u001b[0m\u001b[37m\u001b[0m \u001b[1m1s\u001b[0m 11ms/step - accuracy: 0.8393 - loss: 0.5473 - val_accuracy: 0.8329 - val_loss: 0.4710\n",
            "Epoch 4/10\n",
            "\u001b[1m48/48\u001b[0m \u001b[32m━━━━━━━━━━━━━━━━━━━━\u001b[0m\u001b[37m\u001b[0m \u001b[1m1s\u001b[0m 10ms/step - accuracy: 0.8362 - loss: 0.5658 - val_accuracy: 0.8329 - val_loss: 0.4753\n",
            "Epoch 5/10\n",
            "\u001b[1m48/48\u001b[0m \u001b[32m━━━━━━━━━━━━━━━━━━━━\u001b[0m\u001b[37m\u001b[0m \u001b[1m1s\u001b[0m 12ms/step - accuracy: 0.8381 - loss: 0.5584 - val_accuracy: 0.8329 - val_loss: 0.4691\n",
            "Epoch 6/10\n",
            "\u001b[1m48/48\u001b[0m \u001b[32m━━━━━━━━━━━━━━━━━━━━\u001b[0m\u001b[37m\u001b[0m \u001b[1m1s\u001b[0m 11ms/step - accuracy: 0.8426 - loss: 0.5458 - val_accuracy: 0.8329 - val_loss: 0.4638\n",
            "Epoch 7/10\n",
            "\u001b[1m48/48\u001b[0m \u001b[32m━━━━━━━━━━━━━━━━━━━━\u001b[0m\u001b[37m\u001b[0m \u001b[1m1s\u001b[0m 10ms/step - accuracy: 0.8440 - loss: 0.5497 - val_accuracy: 0.8329 - val_loss: 0.4685\n",
            "Epoch 8/10\n",
            "\u001b[1m48/48\u001b[0m \u001b[32m━━━━━━━━━━━━━━━━━━━━\u001b[0m\u001b[37m\u001b[0m \u001b[1m1s\u001b[0m 10ms/step - accuracy: 0.8315 - loss: 0.5671 - val_accuracy: 0.8329 - val_loss: 0.4715\n",
            "Epoch 9/10\n",
            "\u001b[1m48/48\u001b[0m \u001b[32m━━━━━━━━━━━━━━━━━━━━\u001b[0m\u001b[37m\u001b[0m \u001b[1m1s\u001b[0m 11ms/step - accuracy: 0.8336 - loss: 0.5610 - val_accuracy: 0.8329 - val_loss: 0.4631\n",
            "Epoch 10/10\n",
            "\u001b[1m48/48\u001b[0m \u001b[32m━━━━━━━━━━━━━━━━━━━━\u001b[0m\u001b[37m\u001b[0m \u001b[1m1s\u001b[0m 10ms/step - accuracy: 0.8442 - loss: 0.5311 - val_accuracy: 0.8329 - val_loss: 0.4633\n"
          ]
        }
      ]
    },
    {
      "source": [
        "model_lstm = tf.keras.Sequential([\n",
        "    tf.keras.layers.Embedding(MAX_TOKENS, EMBED_DIM, input_length=MAX_LEN),\n",
        "    tf.keras.layers.Bidirectional(tf.keras.layers.LSTM(32)), # Capa Bidirectional LSTM\n",
        "    tf.keras.layers.Dropout(0.5),\n",
        "    tf.keras.layers.Dense(16, activation='relu'),\n",
        "    tf.keras.layers.Dense(1, activation='sigmoid')\n",
        "])\n",
        "\n",
        "model_lstm.compile(optimizer='adam', loss='binary_crossentropy', metrics=['accuracy'])\n",
        "\n",
        "history_lstm = model_lstm.fit(train_ds, validation_data=test_ds, epochs=5)"
      ],
      "cell_type": "code",
      "metadata": {
        "colab": {
          "base_uri": "https://localhost:8080/"
        },
        "id": "bqyR0htJPiKw",
        "outputId": "a7f4e9cb-9975-472d-eb07-7ff2d1ddd20a"
      },
      "id": "bqyR0htJPiKw",
      "execution_count": 22,
      "outputs": [
        {
          "output_type": "stream",
          "name": "stdout",
          "text": [
            "Epoch 1/5\n"
          ]
        },
        {
          "output_type": "stream",
          "name": "stderr",
          "text": [
            "/usr/local/lib/python3.11/dist-packages/keras/src/layers/core/embedding.py:90: UserWarning: Argument `input_length` is deprecated. Just remove it.\n",
            "  warnings.warn(\n"
          ]
        },
        {
          "output_type": "stream",
          "name": "stdout",
          "text": [
            "\u001b[1m48/48\u001b[0m \u001b[32m━━━━━━━━━━━━━━━━━━━━\u001b[0m\u001b[37m\u001b[0m \u001b[1m11s\u001b[0m 87ms/step - accuracy: 0.8385 - loss: 0.5558 - val_accuracy: 0.8329 - val_loss: 0.4480\n",
            "Epoch 2/5\n",
            "\u001b[1m48/48\u001b[0m \u001b[32m━━━━━━━━━━━━━━━━━━━━\u001b[0m\u001b[37m\u001b[0m \u001b[1m6s\u001b[0m 106ms/step - accuracy: 0.8332 - loss: 0.4513 - val_accuracy: 0.8329 - val_loss: 0.4382\n",
            "Epoch 3/5\n",
            "\u001b[1m48/48\u001b[0m \u001b[32m━━━━━━━━━━━━━━━━━━━━\u001b[0m\u001b[37m\u001b[0m \u001b[1m11s\u001b[0m 116ms/step - accuracy: 0.8227 - loss: 0.4095 - val_accuracy: 0.8329 - val_loss: 0.4084\n",
            "Epoch 4/5\n",
            "\u001b[1m48/48\u001b[0m \u001b[32m━━━━━━━━━━━━━━━━━━━━\u001b[0m\u001b[37m\u001b[0m \u001b[1m4s\u001b[0m 78ms/step - accuracy: 0.8703 - loss: 0.2219 - val_accuracy: 0.7937 - val_loss: 0.4729\n",
            "Epoch 5/5\n",
            "\u001b[1m48/48\u001b[0m \u001b[32m━━━━━━━━━━━━━━━━━━━━\u001b[0m\u001b[37m\u001b[0m \u001b[1m5s\u001b[0m 79ms/step - accuracy: 0.9723 - loss: 0.1761 - val_accuracy: 0.8355 - val_loss: 0.5728\n"
          ]
        }
      ]
    },
    {
      "cell_type": "code",
      "source": [
        "plt.plot(history.history['accuracy'], label='train')\n",
        "plt.plot(history.history['val_accuracy'], label='val')\n",
        "plt.legend(); plt.xlabel('Época'); plt.ylabel('Precisión'); plt.show()"
      ],
      "metadata": {
        "colab": {
          "base_uri": "https://localhost:8080/",
          "height": 451
        },
        "id": "0f7yBrs3OoLe",
        "outputId": "abd74b8c-2ef6-4282-b4fc-ee1efc1367b8"
      },
      "id": "0f7yBrs3OoLe",
      "execution_count": 25,
      "outputs": [
        {
          "output_type": "display_data",
          "data": {
            "text/plain": [
              "<Figure size 640x480 with 1 Axes>"
            ],
            "image/png": "[encoded data removed]"
          },
          "metadata": {}
        }
      ]
    }
  ],
  "metadata": {
    "colab": {
      "provenance": []
    },
    "language_info": {
      "name": "python"
    },
    "kernelspec": {
      "name": "python3",
      "display_name": "Python 3"
    }
  },
  "nbformat": 4,
  "nbformat_minor": 5
}